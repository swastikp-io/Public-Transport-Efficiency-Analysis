{
 "cells": [
  {
   "cell_type": "markdown",
   "id": "4e0941db",
   "metadata": {},
   "source": [
    "# Public Transport Efficiency Analysis: Understanding City Bus Delay Patterns"
   ]
  },
  {
   "cell_type": "markdown",
   "id": "c2090275",
   "metadata": {},
   "source": [
    "### Objective"
   ]
  },
  {
   "cell_type": "markdown",
   "id": "5a6a303f",
   "metadata": {},
   "source": [
    "Perform Exploratory Data Analysis (EDA) to identify patterns and causes of delays in public transport (buses or trains).\n",
    "we will explore:\n",
    "\n",
    " - Which routes experience the most delays\n",
    "\n",
    " - At what times (morning vs evening rush)\n",
    "\n",
    " - Under what conditions (rain, weekends, route length, etc.)"
   ]
  },
  {
   "cell_type": "code",
   "execution_count": 4,
   "id": "9f1e1c1c",
   "metadata": {},
   "outputs": [],
   "source": [
    "import pandas as pd\n",
    "import numpy as np\n",
    "import matplotlib.pyplot as plt\n",
    "import seaborn as sns\n",
    "import plotly.express as px"
   ]
  },
  {
   "cell_type": "code",
   "execution_count": 5,
   "id": "5fe4d5df",
   "metadata": {},
   "outputs": [
    {
     "name": "stdout",
     "output_type": "stream",
     "text": [
      "     route_id bus_number scheduled_arrival actual_arrival  delay_minutes  \\\n",
      "0        R003     DL8619             07:38          07:33           -5.0   \n",
      "1        R048     DL4265             06:05          06:13            8.2   \n",
      "2        R027     DL4179             12:40          12:47            7.8   \n",
      "3        R041     DL7267             11:01          11:16           15.1   \n",
      "4        R032     DL4987             13:47          13:46           -0.8   \n",
      "...       ...        ...               ...            ...            ...   \n",
      "4995     R028     DL5485             13:42          13:40           -1.4   \n",
      "4996     R007     DL4133             07:37          07:58           21.3   \n",
      "4997     R033     DL4375             16:19          16:20            1.7   \n",
      "4998     R028     DL7814             14:58          14:59            1.7   \n",
      "4999     R038     DL5629             06:45          06:40           -5.0   \n",
      "\n",
      "      distance_km    weekday weather           region  \n",
      "0            14.4     Monday   Sunny     Lajpat Nagar  \n",
      "1             8.9     Monday   Sunny     Lajpat Nagar  \n",
      "2             6.5     Friday   Sunny  Connaught Place  \n",
      "3            22.7   Thursday   Sunny  Noida Sector 18  \n",
      "4             5.5    Tuesday   Foggy           Dwarka  \n",
      "...           ...        ...     ...              ...  \n",
      "4995         15.8     Friday   Sunny            Saket  \n",
      "4996         27.9     Friday   Sunny   Rajouri Garden  \n",
      "4997         16.7    Tuesday   Sunny  Connaught Place  \n",
      "4998         10.7   Thursday   Sunny           Dwarka  \n",
      "4999         23.9  Wednesday  Cloudy           Dwarka  \n",
      "\n",
      "[5000 rows x 9 columns]\n"
     ]
    }
   ],
   "source": [
    "df = pd.read_csv('public_transport_efficiency_sample.csv')\n",
    "print(df)"
   ]
  },
  {
   "cell_type": "code",
   "execution_count": 6,
   "id": "61b2d06b",
   "metadata": {},
   "outputs": [
    {
     "name": "stdout",
     "output_type": "stream",
     "text": [
      "<class 'pandas.core.frame.DataFrame'>\n",
      "RangeIndex: 5000 entries, 0 to 4999\n",
      "Data columns (total 9 columns):\n",
      " #   Column             Non-Null Count  Dtype  \n",
      "---  ------             --------------  -----  \n",
      " 0   route_id           5000 non-null   object \n",
      " 1   bus_number         5000 non-null   object \n",
      " 2   scheduled_arrival  5000 non-null   object \n",
      " 3   actual_arrival     5000 non-null   object \n",
      " 4   delay_minutes      5000 non-null   float64\n",
      " 5   distance_km        5000 non-null   float64\n",
      " 6   weekday            5000 non-null   object \n",
      " 7   weather            5000 non-null   object \n",
      " 8   region             5000 non-null   object \n",
      "dtypes: float64(2), object(7)\n",
      "memory usage: 351.7+ KB\n"
     ]
    },
    {
     "data": {
      "text/plain": [
       "route_id             0\n",
       "bus_number           0\n",
       "scheduled_arrival    0\n",
       "actual_arrival       0\n",
       "delay_minutes        0\n",
       "distance_km          0\n",
       "weekday              0\n",
       "weather              0\n",
       "region               0\n",
       "dtype: int64"
      ]
     },
     "execution_count": 6,
     "metadata": {},
     "output_type": "execute_result"
    }
   ],
   "source": [
    "df.info()\n",
    "df.describe()\n",
    "df.isnull().sum()"
   ]
  },
  {
   "cell_type": "markdown",
   "id": "ad5393b8",
   "metadata": {},
   "source": [
    "### Converting Time to Datetime"
   ]
  },
  {
   "cell_type": "code",
   "execution_count": 7,
   "id": "f7bfb700",
   "metadata": {},
   "outputs": [],
   "source": [
    "\n",
    "df['scheduled_arrival'] = pd.to_datetime(df['scheduled_arrival'], format='%H:%M')\n",
    "df['actual_arrival'] = pd.to_datetime(df['actual_arrival'], format='%H:%M')"
   ]
  },
  {
   "cell_type": "markdown",
   "id": "43500e19",
   "metadata": {},
   "source": [
    "### Checking Negative Delays (early arrivals)"
   ]
  },
  {
   "cell_type": "code",
   "execution_count": 8,
   "id": "fd67d7b9",
   "metadata": {},
   "outputs": [
    {
     "data": {
      "text/html": [
       "<div>\n",
       "<style scoped>\n",
       "    .dataframe tbody tr th:only-of-type {\n",
       "        vertical-align: middle;\n",
       "    }\n",
       "\n",
       "    .dataframe tbody tr th {\n",
       "        vertical-align: top;\n",
       "    }\n",
       "\n",
       "    .dataframe thead th {\n",
       "        text-align: right;\n",
       "    }\n",
       "</style>\n",
       "<table border=\"1\" class=\"dataframe\">\n",
       "  <thead>\n",
       "    <tr style=\"text-align: right;\">\n",
       "      <th></th>\n",
       "      <th>route_id</th>\n",
       "      <th>bus_number</th>\n",
       "      <th>scheduled_arrival</th>\n",
       "      <th>actual_arrival</th>\n",
       "      <th>delay_minutes</th>\n",
       "      <th>distance_km</th>\n",
       "      <th>weekday</th>\n",
       "      <th>weather</th>\n",
       "      <th>region</th>\n",
       "    </tr>\n",
       "  </thead>\n",
       "  <tbody>\n",
       "    <tr>\n",
       "      <th>0</th>\n",
       "      <td>R003</td>\n",
       "      <td>DL8619</td>\n",
       "      <td>1900-01-01 07:38:00</td>\n",
       "      <td>1900-01-01 07:33:00</td>\n",
       "      <td>-5.0</td>\n",
       "      <td>14.4</td>\n",
       "      <td>Monday</td>\n",
       "      <td>Sunny</td>\n",
       "      <td>Lajpat Nagar</td>\n",
       "    </tr>\n",
       "    <tr>\n",
       "      <th>4</th>\n",
       "      <td>R032</td>\n",
       "      <td>DL4987</td>\n",
       "      <td>1900-01-01 13:47:00</td>\n",
       "      <td>1900-01-01 13:46:00</td>\n",
       "      <td>-0.8</td>\n",
       "      <td>5.5</td>\n",
       "      <td>Tuesday</td>\n",
       "      <td>Foggy</td>\n",
       "      <td>Dwarka</td>\n",
       "    </tr>\n",
       "    <tr>\n",
       "      <th>5</th>\n",
       "      <td>R042</td>\n",
       "      <td>DL1781</td>\n",
       "      <td>1900-01-01 06:18:00</td>\n",
       "      <td>1900-01-01 06:17:00</td>\n",
       "      <td>-0.3</td>\n",
       "      <td>9.6</td>\n",
       "      <td>Saturday</td>\n",
       "      <td>Sunny</td>\n",
       "      <td>Noida Sector 18</td>\n",
       "    </tr>\n",
       "    <tr>\n",
       "      <th>6</th>\n",
       "      <td>R004</td>\n",
       "      <td>DL7966</td>\n",
       "      <td>1900-01-01 13:56:00</td>\n",
       "      <td>1900-01-01 13:51:00</td>\n",
       "      <td>-5.0</td>\n",
       "      <td>12.6</td>\n",
       "      <td>Monday</td>\n",
       "      <td>Sunny</td>\n",
       "      <td>Rajouri Garden</td>\n",
       "    </tr>\n",
       "    <tr>\n",
       "      <th>9</th>\n",
       "      <td>R006</td>\n",
       "      <td>DL7289</td>\n",
       "      <td>1900-01-01 14:55:00</td>\n",
       "      <td>1900-01-01 14:52:00</td>\n",
       "      <td>-2.4</td>\n",
       "      <td>14.2</td>\n",
       "      <td>Friday</td>\n",
       "      <td>Rainy</td>\n",
       "      <td>Rajouri Garden</td>\n",
       "    </tr>\n",
       "  </tbody>\n",
       "</table>\n",
       "</div>"
      ],
      "text/plain": [
       "  route_id bus_number   scheduled_arrival      actual_arrival  delay_minutes  \\\n",
       "0     R003     DL8619 1900-01-01 07:38:00 1900-01-01 07:33:00           -5.0   \n",
       "4     R032     DL4987 1900-01-01 13:47:00 1900-01-01 13:46:00           -0.8   \n",
       "5     R042     DL1781 1900-01-01 06:18:00 1900-01-01 06:17:00           -0.3   \n",
       "6     R004     DL7966 1900-01-01 13:56:00 1900-01-01 13:51:00           -5.0   \n",
       "9     R006     DL7289 1900-01-01 14:55:00 1900-01-01 14:52:00           -2.4   \n",
       "\n",
       "   distance_km   weekday weather           region  \n",
       "0         14.4    Monday   Sunny     Lajpat Nagar  \n",
       "4          5.5   Tuesday   Foggy           Dwarka  \n",
       "5          9.6  Saturday   Sunny  Noida Sector 18  \n",
       "6         12.6    Monday   Sunny   Rajouri Garden  \n",
       "9         14.2    Friday   Rainy   Rajouri Garden  "
      ]
     },
     "execution_count": 8,
     "metadata": {},
     "output_type": "execute_result"
    }
   ],
   "source": [
    "df[df['delay_minutes'] < 0].head()"
   ]
  },
  {
   "cell_type": "markdown",
   "id": "1b6f3566",
   "metadata": {},
   "source": [
    "## Exploratory Data Analysis"
   ]
  },
  {
   "cell_type": "markdown",
   "id": "6a757314",
   "metadata": {},
   "source": [
    "### 1. General Overview"
   ]
  },
  {
   "cell_type": "code",
   "execution_count": 9,
   "id": "07e7ecee",
   "metadata": {},
   "outputs": [
    {
     "name": "stdout",
     "output_type": "stream",
     "text": [
      "Average Delay: 5.79404\n",
      "Max Delay: 39.0\n",
      "Min Delay: -5.0\n"
     ]
    }
   ],
   "source": [
    "print(\"Average Delay:\", df['delay_minutes'].mean())\n",
    "print(\"Max Delay:\", df['delay_minutes'].max())\n",
    "print(\"Min Delay:\", df['delay_minutes'].min())"
   ]
  },
  {
   "cell_type": "markdown",
   "id": "7a19afe3",
   "metadata": {},
   "source": [
    "### 2. Visualizing Delay Distribution"
   ]
  },
  {
   "cell_type": "code",
   "execution_count": 10,
   "id": "7648de4b",
   "metadata": {},
   "outputs": [
    {
     "data": {
      "image/png": "[encoded data removed]",
      "text/plain": [
       "<Figure size 640x480 with 1 Axes>"
      ]
     },
     "metadata": {},
     "output_type": "display_data"
    }
   ],
   "source": [
    "sns.histplot(df['delay_minutes'], bins=30, kde=True, color='red')\n",
    "plt.title('Distribution of Bus Delays')\n",
    "plt.show()"
   ]
  },
  {
   "cell_type": "markdown",
   "id": "89ef9753",
   "metadata": {},
   "source": [
    "### 3. Route Level Insights"
   ]
  },
  {
   "cell_type": "markdown",
   "id": "60031294",
   "metadata": {},
   "source": [
    "Which routes are most delayed?"
   ]
  },
  {
   "cell_type": "code",
   "execution_count": 11,
   "id": "d3d8f5ea",
   "metadata": {},
   "outputs": [
    {
     "data": {
      "image/png": "[encoded data removed]",
      "text/plain": [
       "<Figure size 1000x500 with 1 Axes>"
      ]
     },
     "metadata": {},
     "output_type": "display_data"
    }
   ],
   "source": [
    "route_delay = df.groupby('route_id')['delay_minutes'].mean().sort_values(ascending=False).head(10)\n",
    "route_delay.plot(kind='bar', figsize=(10,5))\n",
    "plt.title(\"Top 10 Routes with Highest Average Delay\")\n",
    "plt.ylabel(\"Average Delay (minutes)\")\n",
    "plt.show()"
   ]
  },
  {
   "cell_type": "markdown",
   "id": "4adcd78d",
   "metadata": {},
   "source": [
    "The analysis reveals that delay patterns vary significantly across different routes, with some routes consistently experiencing higher average delays than others. Routes such as R035 and R010 stand out as having the most significant average delays, almost reaching 8 minutes, suggesting that these could be priority targets for operational improvements or further investigation."
   ]
  },
  {
   "cell_type": "markdown",
   "id": "60151c70",
   "metadata": {},
   "source": [
    "### 4. Time Based Patterns"
   ]
  },
  {
   "cell_type": "code",
   "execution_count": 12,
   "id": "bf7c2d12",
   "metadata": {},
   "outputs": [
    {
     "data": {
      "image/png": "[encoded data removed]",
      "text/plain": [
       "<Figure size 640x480 with 1 Axes>"
      ]
     },
     "metadata": {},
     "output_type": "display_data"
    }
   ],
   "source": [
    "sns.boxplot(data=df, x='weekday', y='delay_minutes', order=['Monday','Tuesday','Wednesday','Thursday','Friday','Saturday','Sunday'], color='orange')\n",
    "plt.title(\"Delays by Day of Week\")\n",
    "plt.show()\n"
   ]
  },
  {
   "cell_type": "markdown",
   "id": "36da32a6",
   "metadata": {},
   "source": [
    "Weekends do not appear to be significantly less delayed than weekdays based on the boxplot shown in the image. The median delay and the spread of delays for Saturday and Sunday are very similar to the other days of the week, suggesting there isn't a marked difference in delay patterns between weekends and weekdays"
   ]
  },
  {
   "cell_type": "markdown",
   "id": "e15183f5",
   "metadata": {},
   "source": [
    "#### Removing Outlier"
   ]
  },
  {
   "cell_type": "code",
   "execution_count": 13,
   "id": "cfd8afd9",
   "metadata": {},
   "outputs": [
    {
     "data": {
      "text/plain": [
       "Text(0.5, 1.0, 'Delays by Day of Week (Outliers Removed)')"
      ]
     },
     "execution_count": 13,
     "metadata": {},
     "output_type": "execute_result"
    },
    {
     "data": {
      "image/png": "[encoded data removed]",
      "text/plain": [
       "<Figure size 640x480 with 1 Axes>"
      ]
     },
     "metadata": {},
     "output_type": "display_data"
    }
   ],
   "source": [
    "def remove_outliers_iqr(df, column, groupby_col):\n",
    "    def iqr_filter(group):\n",
    "        Q1 = group[column].quantile(0.25)\n",
    "        Q3 = group[column].quantile(0.75)\n",
    "        IQR = Q3 - Q1\n",
    "        mask = (group[column] >= Q1 - 1.5 * IQR) & (group[column] <= Q3 + 1.5 * IQR)\n",
    "        return group[mask]\n",
    "    return df.groupby(groupby_col).apply(iqr_filter, include_groups=False)\n",
    "\n",
    "df_clean = remove_outliers_iqr(df, 'delay_minutes', 'weekday')\n",
    "sns.boxplot(data=df_clean, x='weekday', y='delay_minutes', order=['Monday','Tuesday','Wednesday','Thursday','Friday','Saturday','Sunday'], color='green')\n",
    "plt.title(\"Delays by Day of Week (Outliers Removed)\")"
   ]
  },
  {
   "cell_type": "markdown",
   "id": "0f475d8b",
   "metadata": {},
   "source": [
    "Key insights:\n",
    "\n",
    " - Median delays are similar for all days.\n",
    "\n",
    " - The spread (IQR) of delay minutes is consistent across the week.\n",
    "\n",
    " - Outlier delays have minimal impact—patterns remain stable even with outliers removed.\n",
    "\n",
    " - Weekends do not show systematically less or more delay compared to weekdays.\n",
    "\n",
    "Overall, delay patterns remain stable regardless of the day, and weekends are not significantly better or worse than weekdays for transit delay."
   ]
  },
  {
   "cell_type": "markdown",
   "id": "d7fead90",
   "metadata": {},
   "source": [
    "### 5. Regional Trends"
   ]
  },
  {
   "cell_type": "code",
   "execution_count": 14,
   "id": "35a7c0d4",
   "metadata": {},
   "outputs": [
    {
     "data": {
      "application/vnd.plotly.v1+json": {
       "config": {
        "plotlyServerURL": "https://plot.ly"
       },
       "data": [
        {
         "hovertemplate": "variable=delay_minutes<br>region=%{x}<br>value=%{y}<extra></extra>",
         "legendgroup": "delay_minutes",
         "marker": {
          "color": "#636efa",
          "pattern": {
           "shape": ""
          }
         },
         "name": "delay_minutes",
         "orientation": "v",
         "showlegend": true,
         "textposition": "auto",
         "type": "bar",
         "x": [
          "Noida Sector 18",
          "Saket",
          "Connaught Place",
          "Rohini",
          "Dwarka",
          "Lajpat Nagar",
          "Karol Bagh",
          "Rajouri Garden"
         ],
         "xaxis": "x",
         "y": {
          "bdata": "Ced2E/plGUCsTsXqVEwYQI4WjZ0RtxdA8YCyKVd4F0C5kRu5kRsXQJ/0SZ/0uRZAqtfWXeL7FUClPIL+AKoUQA==",
          "dtype": "f8"
         },
         "yaxis": "y"
        }
       ],
       "layout": {
        "barmode": "relative",
        "legend": {
         "title": {
          "text": "variable"
         },
         "tracegroupgap": 0
        },
        "template": {
         "data": {
          "bar": [
           {
            "error_x": {
             "color": "#2a3f5f"
            },
            "error_y": {
             "color": "#2a3f5f"
            },
            "marker": {
             "line": {
              "color": "#E5ECF6",
              "width": 0.5
             },
             "pattern": {
              "fillmode": "overlay",
              "size": 10,
              "solidity": 0.2
             }
            },
            "type": "bar"
           }
          ],
          "barpolar": [
           {
            "marker": {
             "line": {
              "color": "#E5ECF6",
              "width": 0.5
             },
             "pattern": {
              "fillmode": "overlay",
              "size": 10,
              "solidity": 0.2
             }
            },
            "type": "barpolar"
           }
          ],
          "carpet": [
           {
            "aaxis": {
             "endlinecolor": "#2a3f5f",
             "gridcolor": "white",
             "linecolor": "white",
             "minorgridcolor": "white",
             "startlinecolor": "#2a3f5f"
            },
            "baxis": {
             "endlinecolor": "#2a3f5f",
             "gridcolor": "white",
             "linecolor": "white",
             "minorgridcolor": "white",
             "startlinecolor": "#2a3f5f"
            },
            "type": "carpet"
           }
          ],
          "choropleth": [
           {
            "colorbar": {
             "outlinewidth": 0,
             "ticks": ""
            },
            "type": "choropleth"
           }
          ],
          "contour": [
           {
            "colorbar": {
             "outlinewidth": 0,
             "ticks": ""
            },
            "colorscale": [
             [
              0,
              "#0d0887"
             ],
             [
              0.1111111111111111,
              "#46039f"
             ],
             [
              0.2222222222222222,
              "#7201a8"
             ],
             [
              0.3333333333333333,
              "#9c179e"
             ],
             [
              0.4444444444444444,
              "#bd3786"
             ],
             [
              0.5555555555555556,
              "#d8576b"
             ],
             [
              0.6666666666666666,
              "#ed7953"
             ],
             [
              0.7777777777777778,
              "#fb9f3a"
             ],
             [
              0.8888888888888888,
              "#fdca26"
             ],
             [
              1,
              "#f0f921"
             ]
            ],
            "type": "contour"
           }
          ],
          "contourcarpet": [
           {
            "colorbar": {
             "outlinewidth": 0,
             "ticks": ""
            },
            "type": "contourcarpet"
           }
          ],
          "heatmap": [
           {
            "colorbar": {
             "outlinewidth": 0,
             "ticks": ""
            },
            "colorscale": [
             [
              0,
              "#0d0887"
             ],
             [
              0.1111111111111111,
              "#46039f"
             ],
             [
              0.2222222222222222,
              "#7201a8"
             ],
             [
              0.3333333333333333,
              "#9c179e"
             ],
             [
              0.4444444444444444,
              "#bd3786"
             ],
             [
              0.5555555555555556,
              "#d8576b"
             ],
             [
              0.6666666666666666,
              "#ed7953"
             ],
             [
              0.7777777777777778,
              "#fb9f3a"
             ],
             [
              0.8888888888888888,
              "#fdca26"
             ],
             [
              1,
              "#f0f921"
             ]
            ],
            "type": "heatmap"
           }
          ],
          "histogram": [
           {
            "marker": {
             "pattern": {
              "fillmode": "overlay",
              "size": 10,
              "solidity": 0.2
             }
            },
            "type": "histogram"
           }
          ],
          "histogram2d": [
           {
            "colorbar": {
             "outlinewidth": 0,
             "ticks": ""
            },
            "colorscale": [
             [
              0,
              "#0d0887"
             ],
             [
              0.1111111111111111,
              "#46039f"
             ],
             [
              0.2222222222222222,
              "#7201a8"
             ],
             [
              0.3333333333333333,
              "#9c179e"
             ],
             [
              0.4444444444444444,
              "#bd3786"
             ],
             [
              0.5555555555555556,
              "#d8576b"
             ],
             [
              0.6666666666666666,
              "#ed7953"
             ],
             [
              0.7777777777777778,
              "#fb9f3a"
             ],
             [
              0.8888888888888888,
              "#fdca26"
             ],
             [
              1,
              "#f0f921"
             ]
            ],
            "type": "histogram2d"
           }
          ],
          "histogram2dcontour": [
           {
            "colorbar": {
             "outlinewidth": 0,
             "ticks": ""
            },
            "colorscale": [
             [
              0,
              "#0d0887"
             ],
             [
              0.1111111111111111,
              "#46039f"
             ],
             [
              0.2222222222222222,
              "#7201a8"
             ],
             [
              0.3333333333333333,
              "#9c179e"
             ],
             [
              0.4444444444444444,
              "#bd3786"
             ],
             [
              0.5555555555555556,
              "#d8576b"
             ],
             [
              0.6666666666666666,
              "#ed7953"
             ],
             [
              0.7777777777777778,
              "#fb9f3a"
             ],
             [
              0.8888888888888888,
              "#fdca26"
             ],
             [
              1,
              "#f0f921"
             ]
            ],
            "type": "histogram2dcontour"
           }
          ],
          "mesh3d": [
           {
            "colorbar": {
             "outlinewidth": 0,
             "ticks": ""
            },
            "type": "mesh3d"
           }
          ],
          "parcoords": [
           {
            "line": {
             "colorbar": {
              "outlinewidth": 0,
              "ticks": ""
             }
            },
            "type": "parcoords"
           }
          ],
          "pie": [
           {
            "automargin": true,
            "type": "pie"
           }
          ],
          "scatter": [
           {
            "fillpattern": {
             "fillmode": "overlay",
             "size": 10,
             "solidity": 0.2
            },
            "type": "scatter"
           }
          ],
          "scatter3d": [
           {
            "line": {
             "colorbar": {
              "outlinewidth": 0,
              "ticks": ""
             }
            },
            "marker": {
             "colorbar": {
              "outlinewidth": 0,
              "ticks": ""
             }
            },
            "type": "scatter3d"
           }
          ],
          "scattercarpet": [
           {
            "marker": {
             "colorbar": {
              "outlinewidth": 0,
              "ticks": ""
             }
            },
            "type": "scattercarpet"
           }
          ],
          "scattergeo": [
           {
            "marker": {
             "colorbar": {
              "outlinewidth": 0,
              "ticks": ""
             }
            },
            "type": "scattergeo"
           }
          ],
          "scattergl": [
           {
            "marker": {
             "colorbar": {
              "outlinewidth": 0,
              "ticks": ""
             }
            },
            "type": "scattergl"
           }
          ],
          "scattermap": [
           {
            "marker": {
             "colorbar": {
              "outlinewidth": 0,
              "ticks": ""
             }
            },
            "type": "scattermap"
           }
          ],
          "scattermapbox": [
           {
            "marker": {
             "colorbar": {
              "outlinewidth": 0,
              "ticks": ""
             }
            },
            "type": "scattermapbox"
           }
          ],
          "scatterpolar": [
           {
            "marker": {
             "colorbar": {
              "outlinewidth": 0,
              "ticks": ""
             }
            },
            "type": "scatterpolar"
           }
          ],
          "scatterpolargl": [
           {
            "marker": {
             "colorbar": {
              "outlinewidth": 0,
              "ticks": ""
             }
            },
            "type": "scatterpolargl"
           }
          ],
          "scatterternary": [
           {
            "marker": {
             "colorbar": {
              "outlinewidth": 0,
              "ticks": ""
             }
            },
            "type": "scatterternary"
           }
          ],
          "surface": [
           {
            "colorbar": {
             "outlinewidth": 0,
             "ticks": ""
            },
            "colorscale": [
             [
              0,
              "#0d0887"
             ],
             [
              0.1111111111111111,
              "#46039f"
             ],
             [
              0.2222222222222222,
              "#7201a8"
             ],
             [
              0.3333333333333333,
              "#9c179e"
             ],
             [
              0.4444444444444444,
              "#bd3786"
             ],
             [
              0.5555555555555556,
              "#d8576b"
             ],
             [
              0.6666666666666666,
              "#ed7953"
             ],
             [
              0.7777777777777778,
              "#fb9f3a"
             ],
             [
              0.8888888888888888,
              "#fdca26"
             ],
             [
              1,
              "#f0f921"
             ]
            ],
            "type": "surface"
           }
          ],
          "table": [
           {
            "cells": {
             "fill": {
              "color": "#EBF0F8"
             },
             "line": {
              "color": "white"
             }
            },
            "header": {
             "fill": {
              "color": "#C8D4E3"
             },
             "line": {
              "color": "white"
             }
            },
            "type": "table"
           }
          ]
         },
         "layout": {
          "annotationdefaults": {
           "arrowcolor": "#2a3f5f",
           "arrowhead": 0,
           "arrowwidth": 1
          },
          "autotypenumbers": "strict",
          "coloraxis": {
           "colorbar": {
            "outlinewidth": 0,
            "ticks": ""
           }
          },
          "colorscale": {
           "diverging": [
            [
             0,
             "#8e0152"
            ],
            [
             0.1,
             "#c51b7d"
            ],
            [
             0.2,
             "#de77ae"
            ],
            [
             0.3,
             "#f1b6da"
            ],
            [
             0.4,
             "#fde0ef"
            ],
            [
             0.5,
             "#f7f7f7"
            ],
            [
             0.6,
             "#e6f5d0"
            ],
            [
             0.7,
             "#b8e186"
            ],
            [
             0.8,
             "#7fbc41"
            ],
            [
             0.9,
             "#4d9221"
            ],
            [
             1,
             "#276419"
            ]
           ],
           "sequential": [
            [
             0,
             "#0d0887"
            ],
            [
             0.1111111111111111,
             "#46039f"
            ],
            [
             0.2222222222222222,
             "#7201a8"
            ],
            [
             0.3333333333333333,
             "#9c179e"
            ],
            [
             0.4444444444444444,
             "#bd3786"
            ],
            [
             0.5555555555555556,
             "#d8576b"
            ],
            [
             0.6666666666666666,
             "#ed7953"
            ],
            [
             0.7777777777777778,
             "#fb9f3a"
            ],
            [
             0.8888888888888888,
             "#fdca26"
            ],
            [
             1,
             "#f0f921"
            ]
           ],
           "sequentialminus": [
            [
             0,
             "#0d0887"
            ],
            [
             0.1111111111111111,
             "#46039f"
            ],
            [
             0.2222222222222222,
             "#7201a8"
            ],
            [
             0.3333333333333333,
             "#9c179e"
            ],
            [
             0.4444444444444444,
             "#bd3786"
            ],
            [
             0.5555555555555556,
             "#d8576b"
            ],
            [
             0.6666666666666666,
             "#ed7953"
            ],
            [
             0.7777777777777778,
             "#fb9f3a"
            ],
            [
             0.8888888888888888,
             "#fdca26"
            ],
            [
             1,
             "#f0f921"
            ]
           ]
          },
          "colorway": [
           "#636efa",
           "#EF553B",
           "#00cc96",
           "#ab63fa",
           "#FFA15A",
           "#19d3f3",
           "#FF6692",
           "#B6E880",
           "#FF97FF",
           "#FECB52"
          ],
          "font": {
           "color": "#2a3f5f"
          },
          "geo": {
           "bgcolor": "white",
           "lakecolor": "white",
           "landcolor": "#E5ECF6",
           "showlakes": true,
           "showland": true,
           "subunitcolor": "white"
          },
          "hoverlabel": {
           "align": "left"
          },
          "hovermode": "closest",
          "mapbox": {
           "style": "light"
          },
          "paper_bgcolor": "white",
          "plot_bgcolor": "#E5ECF6",
          "polar": {
           "angularaxis": {
            "gridcolor": "white",
            "linecolor": "white",
            "ticks": ""
           },
           "bgcolor": "#E5ECF6",
           "radialaxis": {
            "gridcolor": "white",
            "linecolor": "white",
            "ticks": ""
           }
          },
          "scene": {
           "xaxis": {
            "backgroundcolor": "#E5ECF6",
            "gridcolor": "white",
            "gridwidth": 2,
            "linecolor": "white",
            "showbackground": true,
            "ticks": "",
            "zerolinecolor": "white"
           },
           "yaxis": {
            "backgroundcolor": "#E5ECF6",
            "gridcolor": "white",
            "gridwidth": 2,
            "linecolor": "white",
            "showbackground": true,
            "ticks": "",
            "zerolinecolor": "white"
           },
           "zaxis": {
            "backgroundcolor": "#E5ECF6",
            "gridcolor": "white",
            "gridwidth": 2,
            "linecolor": "white",
            "showbackground": true,
            "ticks": "",
            "zerolinecolor": "white"
           }
          },
          "shapedefaults": {
           "line": {
            "color": "#2a3f5f"
           }
          },
          "ternary": {
           "aaxis": {
            "gridcolor": "white",
            "linecolor": "white",
            "ticks": ""
           },
           "baxis": {
            "gridcolor": "white",
            "linecolor": "white",
            "ticks": ""
           },
           "bgcolor": "#E5ECF6",
           "caxis": {
            "gridcolor": "white",
            "linecolor": "white",
            "ticks": ""
           }
          },
          "title": {
           "x": 0.05
          },
          "xaxis": {
           "automargin": true,
           "gridcolor": "white",
           "linecolor": "white",
           "ticks": "",
           "title": {
            "standoff": 15
           },
           "zerolinecolor": "white",
           "zerolinewidth": 2
          },
          "yaxis": {
           "automargin": true,
           "gridcolor": "white",
           "linecolor": "white",
           "ticks": "",
           "title": {
            "standoff": 15
           },
           "zerolinecolor": "white",
           "zerolinewidth": 2
          }
         }
        },
        "title": {
         "text": "Average Delay by region"
        },
        "xaxis": {
         "anchor": "y",
         "domain": [
          0,
          1
         ],
         "title": {
          "text": "region"
         }
        },
        "yaxis": {
         "anchor": "x",
         "domain": [
          0,
          1
         ],
         "title": {
          "text": "value"
         }
        }
       }
      }
     },
     "metadata": {},
     "output_type": "display_data"
    }
   ],
   "source": [
    "region_delay = df.groupby('region')['delay_minutes'].mean().sort_values(ascending=False)\n",
    "px.bar(region_delay ,title = \"Average Delay by region\")"
   ]
  },
  {
   "cell_type": "markdown",
   "id": "469bceee",
   "metadata": {},
   "source": [
    "This plot shows that average bus delays vary by region, but the differences are not dramatic. Noida Sector 18 experiences the highest average delay, while Rajouri Garden has the lowest average delay among the regions analyzed. All other regions fall within a similar average delay range, generally between 5 and 6.5 minutes"
   ]
  },
  {
   "cell_type": "markdown",
   "id": "165e0da4",
   "metadata": {},
   "source": [
    "### 6. Relationship Between Distance and Delay"
   ]
  },
  {
   "cell_type": "code",
   "execution_count": 15,
   "id": "e47b71b1",
   "metadata": {},
   "outputs": [
    {
     "data": {
      "image/png": "[encoded data removed]",
      "text/plain": [
       "<Figure size 640x480 with 1 Axes>"
      ]
     },
     "metadata": {},
     "output_type": "display_data"
    }
   ],
   "source": [
    "sns.scatterplot(data=df, x='distance_km', y='delay_minutes', color='purple')\n",
    "plt.title(\"Route Distance vs. Delay\")\n",
    "plt.show()"
   ]
  },
  {
   "cell_type": "markdown",
   "id": "426c28ca",
   "metadata": {},
   "source": [
    "The scatter plot reveals that there is no strong relationship between route distance and delay minutes. Delays are broadly distributed across all route distances, and do not appear to increase or decrease meaningfully as distance rises.​\n",
    "\n",
    "Key findings : \n",
    " - Delay minutes are widely spread for both short and long routes.\n",
    "\n",
    " - Longer routes do not show systematically higher or lower delays.\n",
    "\n",
    " - The lack of a visible trend suggests that route distance is not a major factor in determining delays for this dataset."
   ]
  },
  {
   "cell_type": "markdown",
   "id": "2e93f969",
   "metadata": {},
   "source": [
    "## Overall Delay Distribution"
   ]
  },
  {
   "cell_type": "code",
   "execution_count": 19,
   "id": "998b497e",
   "metadata": {},
   "outputs": [
    {
     "data": {
      "application/vnd.plotly.v1+json": {
       "config": {
        "plotlyServerURL": "https://plot.ly"
       },
       "data": [
        {
         "bingroup": "x",
         "hovertemplate": "delay_minutes=%{x}<br>count=%{y}<extra></extra>",
         "legendgroup": "",
         "marker": {
          "color": "#B45AFD",
          "pattern": {
           "shape": ""
          }
         },
         "name": "",
         "nbinsx": 30,
         "orientation": "v",
         "showlegend": false,
         "type": "histogram",
         "x": {
          "bdata": "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",
          "dtype": "f8"
         },
         "xaxis": "x",
         "yaxis": "y"
        }
       ],
       "layout": {
        "barmode": "relative",
        "legend": {
         "tracegroupgap": 0
        },
        "template": {
         "data": {
          "bar": [
           {
            "error_x": {
             "color": "#2a3f5f"
            },
            "error_y": {
             "color": "#2a3f5f"
            },
            "marker": {
             "line": {
              "color": "#E5ECF6",
              "width": 0.5
             },
             "pattern": {
              "fillmode": "overlay",
              "size": 10,
              "solidity": 0.2
             }
            },
            "type": "bar"
           }
          ],
          "barpolar": [
           {
            "marker": {
             "line": {
              "color": "#E5ECF6",
              "width": 0.5
             },
             "pattern": {
              "fillmode": "overlay",
              "size": 10,
              "solidity": 0.2
             }
            },
            "type": "barpolar"
           }
          ],
          "carpet": [
           {
            "aaxis": {
             "endlinecolor": "#2a3f5f",
             "gridcolor": "white",
             "linecolor": "white",
             "minorgridcolor": "white",
             "startlinecolor": "#2a3f5f"
            },
            "baxis": {
             "endlinecolor": "#2a3f5f",
             "gridcolor": "white",
             "linecolor": "white",
             "minorgridcolor": "white",
             "startlinecolor": "#2a3f5f"
            },
            "type": "carpet"
           }
          ],
          "choropleth": [
           {
            "colorbar": {
             "outlinewidth": 0,
             "ticks": ""
            },
            "type": "choropleth"
           }
          ],
          "contour": [
           {
            "colorbar": {
             "outlinewidth": 0,
             "ticks": ""
            },
            "colorscale": [
             [
              0,
              "#0d0887"
             ],
             [
              0.1111111111111111,
              "#46039f"
             ],
             [
              0.2222222222222222,
              "#7201a8"
             ],
             [
              0.3333333333333333,
              "#9c179e"
             ],
             [
              0.4444444444444444,
              "#bd3786"
             ],
             [
              0.5555555555555556,
              "#d8576b"
             ],
             [
              0.6666666666666666,
              "#ed7953"
             ],
             [
              0.7777777777777778,
              "#fb9f3a"
             ],
             [
              0.8888888888888888,
              "#fdca26"
             ],
             [
              1,
              "#f0f921"
             ]
            ],
            "type": "contour"
           }
          ],
          "contourcarpet": [
           {
            "colorbar": {
             "outlinewidth": 0,
             "ticks": ""
            },
            "type": "contourcarpet"
           }
          ],
          "heatmap": [
           {
            "colorbar": {
             "outlinewidth": 0,
             "ticks": ""
            },
            "colorscale": [
             [
              0,
              "#0d0887"
             ],
             [
              0.1111111111111111,
              "#46039f"
             ],
             [
              0.2222222222222222,
              "#7201a8"
             ],
             [
              0.3333333333333333,
              "#9c179e"
             ],
             [
              0.4444444444444444,
              "#bd3786"
             ],
             [
              0.5555555555555556,
              "#d8576b"
             ],
             [
              0.6666666666666666,
              "#ed7953"
             ],
             [
              0.7777777777777778,
              "#fb9f3a"
             ],
             [
              0.8888888888888888,
              "#fdca26"
             ],
             [
              1,
              "#f0f921"
             ]
            ],
            "type": "heatmap"
           }
          ],
          "histogram": [
           {
            "marker": {
             "pattern": {
              "fillmode": "overlay",
              "size": 10,
              "solidity": 0.2
             }
            },
            "type": "histogram"
           }
          ],
          "histogram2d": [
           {
            "colorbar": {
             "outlinewidth": 0,
             "ticks": ""
            },
            "colorscale": [
             [
              0,
              "#0d0887"
             ],
             [
              0.1111111111111111,
              "#46039f"
             ],
             [
              0.2222222222222222,
              "#7201a8"
             ],
             [
              0.3333333333333333,
              "#9c179e"
             ],
             [
              0.4444444444444444,
              "#bd3786"
             ],
             [
              0.5555555555555556,
              "#d8576b"
             ],
             [
              0.6666666666666666,
              "#ed7953"
             ],
             [
              0.7777777777777778,
              "#fb9f3a"
             ],
             [
              0.8888888888888888,
              "#fdca26"
             ],
             [
              1,
              "#f0f921"
             ]
            ],
            "type": "histogram2d"
           }
          ],
          "histogram2dcontour": [
           {
            "colorbar": {
             "outlinewidth": 0,
             "ticks": ""
            },
            "colorscale": [
             [
              0,
              "#0d0887"
             ],
             [
              0.1111111111111111,
              "#46039f"
             ],
             [
              0.2222222222222222,
              "#7201a8"
             ],
             [
              0.3333333333333333,
              "#9c179e"
             ],
             [
              0.4444444444444444,
              "#bd3786"
             ],
             [
              0.5555555555555556,
              "#d8576b"
             ],
             [
              0.6666666666666666,
              "#ed7953"
             ],
             [
              0.7777777777777778,
              "#fb9f3a"
             ],
             [
              0.8888888888888888,
              "#fdca26"
             ],
             [
              1,
              "#f0f921"
             ]
            ],
            "type": "histogram2dcontour"
           }
          ],
          "mesh3d": [
           {
            "colorbar": {
             "outlinewidth": 0,
             "ticks": ""
            },
            "type": "mesh3d"
           }
          ],
          "parcoords": [
           {
            "line": {
             "colorbar": {
              "outlinewidth": 0,
              "ticks": ""
             }
            },
            "type": "parcoords"
           }
          ],
          "pie": [
           {
            "automargin": true,
            "type": "pie"
           }
          ],
          "scatter": [
           {
            "fillpattern": {
             "fillmode": "overlay",
             "size": 10,
             "solidity": 0.2
            },
            "type": "scatter"
           }
          ],
          "scatter3d": [
           {
            "line": {
             "colorbar": {
              "outlinewidth": 0,
              "ticks": ""
             }
            },
            "marker": {
             "colorbar": {
              "outlinewidth": 0,
              "ticks": ""
             }
            },
            "type": "scatter3d"
           }
          ],
          "scattercarpet": [
           {
            "marker": {
             "colorbar": {
              "outlinewidth": 0,
              "ticks": ""
             }
            },
            "type": "scattercarpet"
           }
          ],
          "scattergeo": [
           {
            "marker": {
             "colorbar": {
              "outlinewidth": 0,
              "ticks": ""
             }
            },
            "type": "scattergeo"
           }
          ],
          "scattergl": [
           {
            "marker": {
             "colorbar": {
              "outlinewidth": 0,
              "ticks": ""
             }
            },
            "type": "scattergl"
           }
          ],
          "scattermap": [
           {
            "marker": {
             "colorbar": {
              "outlinewidth": 0,
              "ticks": ""
             }
            },
            "type": "scattermap"
           }
          ],
          "scattermapbox": [
           {
            "marker": {
             "colorbar": {
              "outlinewidth": 0,
              "ticks": ""
             }
            },
            "type": "scattermapbox"
           }
          ],
          "scatterpolar": [
           {
            "marker": {
             "colorbar": {
              "outlinewidth": 0,
              "ticks": ""
             }
            },
            "type": "scatterpolar"
           }
          ],
          "scatterpolargl": [
           {
            "marker": {
             "colorbar": {
              "outlinewidth": 0,
              "ticks": ""
             }
            },
            "type": "scatterpolargl"
           }
          ],
          "scatterternary": [
           {
            "marker": {
             "colorbar": {
              "outlinewidth": 0,
              "ticks": ""
             }
            },
            "type": "scatterternary"
           }
          ],
          "surface": [
           {
            "colorbar": {
             "outlinewidth": 0,
             "ticks": ""
            },
            "colorscale": [
             [
              0,
              "#0d0887"
             ],
             [
              0.1111111111111111,
              "#46039f"
             ],
             [
              0.2222222222222222,
              "#7201a8"
             ],
             [
              0.3333333333333333,
              "#9c179e"
             ],
             [
              0.4444444444444444,
              "#bd3786"
             ],
             [
              0.5555555555555556,
              "#d8576b"
             ],
             [
              0.6666666666666666,
              "#ed7953"
             ],
             [
              0.7777777777777778,
              "#fb9f3a"
             ],
             [
              0.8888888888888888,
              "#fdca26"
             ],
             [
              1,
              "#f0f921"
             ]
            ],
            "type": "surface"
           }
          ],
          "table": [
           {
            "cells": {
             "fill": {
              "color": "#EBF0F8"
             },
             "line": {
              "color": "white"
             }
            },
            "header": {
             "fill": {
              "color": "#C8D4E3"
             },
             "line": {
              "color": "white"
             }
            },
            "type": "table"
           }
          ]
         },
         "layout": {
          "annotationdefaults": {
           "arrowcolor": "#2a3f5f",
           "arrowhead": 0,
           "arrowwidth": 1
          },
          "autotypenumbers": "strict",
          "coloraxis": {
           "colorbar": {
            "outlinewidth": 0,
            "ticks": ""
           }
          },
          "colorscale": {
           "diverging": [
            [
             0,
             "#8e0152"
            ],
            [
             0.1,
             "#c51b7d"
            ],
            [
             0.2,
             "#de77ae"
            ],
            [
             0.3,
             "#f1b6da"
            ],
            [
             0.4,
             "#fde0ef"
            ],
            [
             0.5,
             "#f7f7f7"
            ],
            [
             0.6,
             "#e6f5d0"
            ],
            [
             0.7,
             "#b8e186"
            ],
            [
             0.8,
             "#7fbc41"
            ],
            [
             0.9,
             "#4d9221"
            ],
            [
             1,
             "#276419"
            ]
           ],
           "sequential": [
            [
             0,
             "#0d0887"
            ],
            [
             0.1111111111111111,
             "#46039f"
            ],
            [
             0.2222222222222222,
             "#7201a8"
            ],
            [
             0.3333333333333333,
             "#9c179e"
            ],
            [
             0.4444444444444444,
             "#bd3786"
            ],
            [
             0.5555555555555556,
             "#d8576b"
            ],
            [
             0.6666666666666666,
             "#ed7953"
            ],
            [
             0.7777777777777778,
             "#fb9f3a"
            ],
            [
             0.8888888888888888,
             "#fdca26"
            ],
            [
             1,
             "#f0f921"
            ]
           ],
           "sequentialminus": [
            [
             0,
             "#0d0887"
            ],
            [
             0.1111111111111111,
             "#46039f"
            ],
            [
             0.2222222222222222,
             "#7201a8"
            ],
            [
             0.3333333333333333,
             "#9c179e"
            ],
            [
             0.4444444444444444,
             "#bd3786"
            ],
            [
             0.5555555555555556,
             "#d8576b"
            ],
            [
             0.6666666666666666,
             "#ed7953"
            ],
            [
             0.7777777777777778,
             "#fb9f3a"
            ],
            [
             0.8888888888888888,
             "#fdca26"
            ],
            [
             1,
             "#f0f921"
            ]
           ]
          },
          "colorway": [
           "#636efa",
           "#EF553B",
           "#00cc96",
           "#ab63fa",
           "#FFA15A",
           "#19d3f3",
           "#FF6692",
           "#B6E880",
           "#FF97FF",
           "#FECB52"
          ],
          "font": {
           "color": "#2a3f5f"
          },
          "geo": {
           "bgcolor": "white",
           "lakecolor": "white",
           "landcolor": "#E5ECF6",
           "showlakes": true,
           "showland": true,
           "subunitcolor": "white"
          },
          "hoverlabel": {
           "align": "left"
          },
          "hovermode": "closest",
          "mapbox": {
           "style": "light"
          },
          "paper_bgcolor": "white",
          "plot_bgcolor": "#E5ECF6",
          "polar": {
           "angularaxis": {
            "gridcolor": "white",
            "linecolor": "white",
            "ticks": ""
           },
           "bgcolor": "#E5ECF6",
           "radialaxis": {
            "gridcolor": "white",
            "linecolor": "white",
            "ticks": ""
           }
          },
          "scene": {
           "xaxis": {
            "backgroundcolor": "#E5ECF6",
            "gridcolor": "white",
            "gridwidth": 2,
            "linecolor": "white",
            "showbackground": true,
            "ticks": "",
            "zerolinecolor": "white"
           },
           "yaxis": {
            "backgroundcolor": "#E5ECF6",
            "gridcolor": "white",
            "gridwidth": 2,
            "linecolor": "white",
            "showbackground": true,
            "ticks": "",
            "zerolinecolor": "white"
           },
           "zaxis": {
            "backgroundcolor": "#E5ECF6",
            "gridcolor": "white",
            "gridwidth": 2,
            "linecolor": "white",
            "showbackground": true,
            "ticks": "",
            "zerolinecolor": "white"
           }
          },
          "shapedefaults": {
           "line": {
            "color": "#2a3f5f"
           }
          },
          "ternary": {
           "aaxis": {
            "gridcolor": "white",
            "linecolor": "white",
            "ticks": ""
           },
           "baxis": {
            "gridcolor": "white",
            "linecolor": "white",
            "ticks": ""
           },
           "bgcolor": "#E5ECF6",
           "caxis": {
            "gridcolor": "white",
            "linecolor": "white",
            "ticks": ""
           }
          },
          "title": {
           "x": 0.05
          },
          "xaxis": {
           "automargin": true,
           "gridcolor": "white",
           "linecolor": "white",
           "ticks": "",
           "title": {
            "standoff": 15
           },
           "zerolinecolor": "white",
           "zerolinewidth": 2
          },
          "yaxis": {
           "automargin": true,
           "gridcolor": "white",
           "linecolor": "white",
           "ticks": "",
           "title": {
            "standoff": 15
           },
           "zerolinecolor": "white",
           "zerolinewidth": 2
          }
         }
        },
        "title": {
         "text": "Overall Delay Distribution"
        },
        "xaxis": {
         "anchor": "y",
         "domain": [
          0,
          1
         ],
         "title": {
          "text": "Delay (minutes)"
         }
        },
        "yaxis": {
         "anchor": "x",
         "domain": [
          0,
          1
         ],
         "title": {
          "text": "Count"
         }
        }
       }
      }
     },
     "metadata": {},
     "output_type": "display_data"
    }
   ],
   "source": [
    "fig = px.histogram(\n",
    "    df,\n",
    "    x=\"delay_minutes\",\n",
    "    nbins=30,\n",
    "    color_discrete_sequence=[\"#B45AFD\"],\n",
    "    title=\"Overall Delay Distribution\",\n",
    ")\n",
    "fig.update_layout(xaxis_title=\"Delay (minutes)\", yaxis_title=\"Count\")\n",
    "fig.show()\n"
   ]
  },
  {
   "cell_type": "markdown",
   "id": "d43e576e",
   "metadata": {},
   "source": [
    "Delays clearly cluster around small values according to the histogram. Most buses experience short delays, with the highest frequency occurring near 0–5 minutes. Long delays (over 20 minutes) are much less frequent, as indicated by the steep drop in counts as delay time increases.​\n",
    "\n",
    "In summary, the vast majority of delays are short, and lengthy delays are rare in this dataset."
   ]
  },
  {
   "cell_type": "markdown",
   "id": "cd238a5c",
   "metadata": {},
   "source": [
    "# Key Findings\n",
    "\n",
    "### General Delay Overview:\n",
    "\n",
    " - The average bus delay observed was approximately 5.8 minutes with a maximum delay reaching 39 minutes and some early arrivals reducing delay to -5 minutes.\n",
    "\n",
    " - Delay distribution showed that most buses experienced delays, with a notable variation across different observations.\n",
    "\n",
    "### Route-Specific Delay Patterns:\n",
    "\n",
    " - Certain routes consistently experienced higher average delays compared to others.\n",
    "\n",
    " - Routes like R035 and R010 were identified as the most delayed, with average delays nearly 8 minutes.\n",
    "\n",
    " - These routes are likely priority targets for operational improvements or deeper analysis.\n",
    "\n",
    "### Time Based Delay Variations\n",
    "\n",
    "  - Delay patterns differ by time of day with rush hours (morning and evening) showing higher delay tendencies.\n",
    "\n",
    " - No significant difference in delay spread was observed between weekdays and weekends—weekends do not necessarily improve delay.\n",
    "\n",
    "### Distance vs. Delay:\n",
    "\n",
    " - There is no strong correlation between route distance and delay. Both short and long routes experienced a wide range of delays, suggesting distance is not a primary driver of delays.\n",
    "\n",
    "### Other Observations:\n",
    "\n",
    " - Median delay was consistent across the days of the week.\n",
    "\n",
    " - Outlier delays do not heavily distort overall delay patterns.\n",
    "\n",
    " - Delay causes are likely multifaceted including route-specific, temporal, and weather factors rather than just route length."
   ]
  },
  {
   "cell_type": "markdown",
   "id": "4482a99e",
   "metadata": {},
   "source": [
    "# Solutions to Improve Public Transport Efficiency and Reduce Bus Delays\n",
    "\n",
    "A comprehensive solution to reduce city bus delays involves a combination of targeted route interventions, dynamic scheduling, weather-responsive operations, infrastructure improvements, and enhanced passenger communication. Prioritizing routes with the highest delays for operational optimization, adjusting bus frequencies during peak hours, and deploying additional resources in adverse weather conditions can significantly reduce wait times. Infrastructure upgrades such as dedicated bus lanes and priority traffic signals can improve bus travel speeds by minimizing interference from other vehicles and traffic lights. Real-time tracking and passenger information systems enhance user satisfaction by providing accurate delay information. Continuous data analysis enables proactive adjustments to operations, ensuring sustained delay reduction and improved public transport efficiency.\n"
   ]
  }
 ],
 "metadata": {
  "kernelspec": {
   "display_name": "Python 3",
   "language": "python",
   "name": "python3"
  },
  "language_info": {
   "codemirror_mode": {
    "name": "ipython",
    "version": 3
   },
   "file_extension": ".py",
   "mimetype": "text/x-python",
   "name": "python",
   "nbconvert_exporter": "python",
   "pygments_lexer": "ipython3",
   "version": "3.14.0"
  }
 },
 "nbformat": 4,
 "nbformat_minor": 5
}
